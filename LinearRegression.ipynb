{
 "cells": [
  {
   "cell_type": "code",
   "execution_count": 196,
   "id": "62dc0969-1290-432e-936b-0152652dee09",
   "metadata": {},
   "outputs": [],
   "source": [
    "import numpy as np\n",
    "import pandas as pd\n",
    "import matplotlib.pyplot as plt\n",
    "import seaborn as sns\n",
    "from sklearn.model_selection import train_test_split\n",
    "from sklearn.linear_model import LinearRegression\n",
    "from sklearn.metrics import mean_squared_error, r2_score, mean_absolute_error\n",
    "from sklearn.preprocessing import RobustScaler"
   ]
  },
  {
   "cell_type": "code",
   "execution_count": 197,
   "id": "23e2bd8f-019e-402f-a363-f90fad96454b",
   "metadata": {},
   "outputs": [],
   "source": [
    "df_train = pd.read_csv(\"data/train.csv\")\n",
    "df_test = pd.read_csv(\"data/test.csv\")"
   ]
  },
  {
   "cell_type": "markdown",
   "id": "ac70407c-3e59-424e-be33-d1ba352a370b",
   "metadata": {},
   "source": [
    "## 1. Cleaning Data and Getting relevant features"
   ]
  },
  {
   "cell_type": "markdown",
   "id": "b579e150-7a5a-45da-9b13-00a23005e71c",
   "metadata": {},
   "source": [
    "#### Joining both sets for easier analysis, storing SalePrice column for later use"
   ]
  },
  {
   "cell_type": "code",
   "execution_count": 198,
   "id": "04a7e554-7100-47b7-b537-afe5be8541d0",
   "metadata": {},
   "outputs": [],
   "source": [
    "target = df_train[['SalePrice']]\n",
    "df_train.drop(columns='SalePrice', inplace = True)"
   ]
  },
  {
   "cell_type": "code",
   "execution_count": 199,
   "id": "1f6a5214-fb64-4f74-a091-90dfbb27bd6e",
   "metadata": {},
   "outputs": [],
   "source": [
    "df = pd.concat([df_train, df_test])\n",
    "df = df.select_dtypes(exclude=['object'])"
   ]
  },
  {
   "cell_type": "markdown",
   "id": "a131fefc-ae37-4429-8308-c871b5389cc8",
   "metadata": {},
   "source": [
    "#### Removing features that have the most missing values, they are irrelevant."
   ]
  },
  {
   "cell_type": "code",
   "execution_count": 200,
   "id": "6d07072d-f73e-4fdf-82cb-ee91e23cf642",
   "metadata": {},
   "outputs": [
    {
     "data": {
      "text/html": [
       "<div>\n",
       "<style scoped>\n",
       "    .dataframe tbody tr th:only-of-type {\n",
       "        vertical-align: middle;\n",
       "    }\n",
       "\n",
       "    .dataframe tbody tr th {\n",
       "        vertical-align: top;\n",
       "    }\n",
       "\n",
       "    .dataframe thead th {\n",
       "        text-align: right;\n",
       "    }\n",
       "</style>\n",
       "<table border=\"1\" class=\"dataframe\">\n",
       "  <thead>\n",
       "    <tr style=\"text-align: right;\">\n",
       "      <th></th>\n",
       "      <th>% missing</th>\n",
       "    </tr>\n",
       "  </thead>\n",
       "  <tbody>\n",
       "    <tr>\n",
       "      <th>BsmtFinSF1</th>\n",
       "      <td>0.034258</td>\n",
       "    </tr>\n",
       "    <tr>\n",
       "      <th>BsmtFinSF2</th>\n",
       "      <td>0.034258</td>\n",
       "    </tr>\n",
       "    <tr>\n",
       "      <th>BsmtUnfSF</th>\n",
       "      <td>0.034258</td>\n",
       "    </tr>\n",
       "    <tr>\n",
       "      <th>TotalBsmtSF</th>\n",
       "      <td>0.034258</td>\n",
       "    </tr>\n",
       "    <tr>\n",
       "      <th>GarageCars</th>\n",
       "      <td>0.034258</td>\n",
       "    </tr>\n",
       "    <tr>\n",
       "      <th>GarageArea</th>\n",
       "      <td>0.034258</td>\n",
       "    </tr>\n",
       "    <tr>\n",
       "      <th>BsmtFullBath</th>\n",
       "      <td>0.068517</td>\n",
       "    </tr>\n",
       "    <tr>\n",
       "      <th>BsmtHalfBath</th>\n",
       "      <td>0.068517</td>\n",
       "    </tr>\n",
       "    <tr>\n",
       "      <th>MasVnrArea</th>\n",
       "      <td>0.787941</td>\n",
       "    </tr>\n",
       "    <tr>\n",
       "      <th>GarageYrBlt</th>\n",
       "      <td>5.447071</td>\n",
       "    </tr>\n",
       "    <tr>\n",
       "      <th>LotFrontage</th>\n",
       "      <td>16.649538</td>\n",
       "    </tr>\n",
       "  </tbody>\n",
       "</table>\n",
       "</div>"
      ],
      "text/plain": [
       "              % missing\n",
       "BsmtFinSF1     0.034258\n",
       "BsmtFinSF2     0.034258\n",
       "BsmtUnfSF      0.034258\n",
       "TotalBsmtSF    0.034258\n",
       "GarageCars     0.034258\n",
       "GarageArea     0.034258\n",
       "BsmtFullBath   0.068517\n",
       "BsmtHalfBath   0.068517\n",
       "MasVnrArea     0.787941\n",
       "GarageYrBlt    5.447071\n",
       "LotFrontage   16.649538"
      ]
     },
     "execution_count": 200,
     "metadata": {},
     "output_type": "execute_result"
    }
   ],
   "source": [
    "nulldf = (df.isnull().sum() * 100 / len(dataset))[df.isnull().sum() > 0].sort_values().to_frame().rename(columns={0:\"% missing\"})\n",
    "nulldf"
   ]
  },
  {
   "cell_type": "code",
   "execution_count": 201,
   "id": "37adf5c3-1b2c-4a36-8d6b-ab3a7cc34984",
   "metadata": {},
   "outputs": [],
   "source": [
    "df.drop(columns=[\"LotFrontage\", \"GarageYrBlt\", \"MasVnrArea\"], inplace=True)"
   ]
  },
  {
   "cell_type": "markdown",
   "id": "9ae65a91-6f1a-4ebb-b585-5751f93b48d6",
   "metadata": {},
   "source": [
    "#### Filling in the rest of the features that have null values with zeros. (other values such as the median can work here too)"
   ]
  },
  {
   "cell_type": "code",
   "execution_count": 202,
   "id": "a1f84794-d893-454a-928f-c599bb4685d3",
   "metadata": {},
   "outputs": [],
   "source": [
    "for col in ['BsmtFinSF1', 'BsmtFinSF2', 'BsmtUnfSF', 'BsmtUnfSF', 'TotalBsmtSF', 'GarageCars', 'GarageArea','BsmtFullBath', 'BsmtHalfBath']:\n",
    "    df[col] = df[col].fillna(0)\n",
    "    #df[col] = df[col].fillna(df[col].median)\n",
    "    "
   ]
  },
  {
   "cell_type": "markdown",
   "id": "02fee2c7-975b-45ce-a845-65ab3611b58c",
   "metadata": {},
   "source": [
    "#### Adding back the SalePrice column and splitting them back into two dataframes"
   ]
  },
  {
   "cell_type": "code",
   "execution_count": 221,
   "id": "5fd1d1d0-83cf-4673-a11b-66da163871dc",
   "metadata": {},
   "outputs": [],
   "source": [
    "train_df = pd.concat([df.iloc[:len(target[\"SalePrice\"]),:],target['SalePrice']],axis=1)\n",
    "test_df = df.iloc[len(target):,:]"
   ]
  },
  {
   "cell_type": "markdown",
   "id": "2df0074e-3732-4855-88ec-7c69fdc88baa",
   "metadata": {},
   "source": [
    "#### Dropping the features witht the least correlation to SalePrice"
   ]
  },
  {
   "cell_type": "code",
   "execution_count": 222,
   "id": "da9dd9b7-6b25-41a9-bad4-4aaf205d7778",
   "metadata": {},
   "outputs": [
    {
     "data": {
      "text/plain": [
       "EnclosedPorch   -0.218394\n",
       "LowQualFinSF    -0.067719\n",
       "MiscVal         -0.062727\n",
       "BsmtFinSF2      -0.038806\n",
       "PoolArea         0.058453\n",
       "3SsnPorch        0.065440\n",
       "ScreenPorch      0.100070\n",
       "BsmtUnfSF        0.185197\n",
       "Name: SalePrice, dtype: float64"
      ]
     },
     "execution_count": 222,
     "metadata": {},
     "output_type": "execute_result"
    }
   ],
   "source": [
    "con_cols = [\"LotArea\",\"BsmtFinSF1\",\"BsmtFinSF2\",\"BsmtUnfSF\",\"TotalBsmtSF\",\n",
    "            \"1stFlrSF\",\"2ndFlrSF\",\"LowQualFinSF\",\"GrLivArea\",\"GarageArea\",\"WoodDeckSF\",\"OpenPorchSF\",\n",
    "            \"EnclosedPorch\",\"3SsnPorch\",\"ScreenPorch\",\"PoolArea\",\"MiscVal\", 'SalePrice']\n",
    "corr = train_df[con_cols].corr(method='spearman')['SalePrice'].sort_values()\n",
    "corr[:-10]"
   ]
  },
  {
   "cell_type": "code",
   "execution_count": null,
   "id": "82242e97-b187-4b96-bd10-04b9e72f2457",
   "metadata": {},
   "outputs": [],
   "source": [
    "train_df.drop(columns=[\"EnclosedPorch\",\"LowQualFinSF\",\"MiscVal\",\"BsmtFinSF2\",\"PoolArea\",\n",
    "            \"3SsnPorch\",\"ScreenPorch\",\"BsmtUnfSF\"], inplace=True)\n",
    "test_df.drop(columns=[\"EnclosedPorch\",\"LowQualFinSF\",\"MiscVal\",\"BsmtFinSF2\",\"PoolArea\",\n",
    "            \"3SsnPorch\",\"ScreenPorch\",\"BsmtUnfSF\"], inplace=True)"
   ]
  },
  {
   "cell_type": "markdown",
   "id": "b4176965-7110-438f-a5cd-46501994f429",
   "metadata": {},
   "source": [
    "#### Feature Engineering - adding Total Square Footage and Total Room features"
   ]
  },
  {
   "cell_type": "code",
   "execution_count": 229,
   "id": "7feed2f3-7c5c-4dfd-a5a6-60285f7662f1",
   "metadata": {},
   "outputs": [],
   "source": [
    "train_df['SquareFootage'] = train_df['1stFlrSF'] + train_df['2ndFlrSF'] + train_df['TotalBsmtSF'] + train_df['GrLivArea']\n",
    "train_df['TotalRooms'] = train_df['BedroomAbvGr'] + train_df['FullBath'] + train_df['HalfBath']"
   ]
  },
  {
   "cell_type": "raw",
   "id": "c2cd723e-7904-4100-a2c7-5270efa196cd",
   "metadata": {},
   "source": [
    "test_df['SquareFootage'] = test_df['1stFlrSF'] + test_df['2ndFlrSF'] + test_df['TotalBsmtSF'] + test_df['GrLivArea']\n",
    "test_df['TotalRooms'] = test_df['BedroomAbvGr'] + test_df['FullBath'] + test_df['HalfBath']"
   ]
  },
  {
   "cell_type": "markdown",
   "id": "4049c825-f088-4f15-bbb1-e92d08263a5d",
   "metadata": {},
   "source": [
    "## 2. Building our Linear Regression Model"
   ]
  },
  {
   "cell_type": "markdown",
   "id": "e52b2a19-b986-4dc3-9ccc-f402d2d9e68b",
   "metadata": {},
   "source": [
    "#### Splitting data, fitting then predicting using sklearn "
   ]
  },
  {
   "cell_type": "code",
   "execution_count": 208,
   "id": "8e962da3-2b5b-4402-83de-36908a06d617",
   "metadata": {},
   "outputs": [],
   "source": [
    "X = train_df.drop(columns = [\"SalePrice\"])\n",
    "y = train_df['SalePrice']\n",
    "X_train, X_test, y_train, y_test = train_test_split(X,y, random_state=15)"
   ]
  },
  {
   "cell_type": "code",
   "execution_count": 209,
   "id": "6cc41c1a-7af2-4969-a92f-705e4703a847",
   "metadata": {},
   "outputs": [],
   "source": [
    "regressor = LinearRegression().fit(X_train, y_train)"
   ]
  },
  {
   "cell_type": "code",
   "execution_count": 210,
   "id": "dd422883-9a35-46e6-8921-b86783b124ff",
   "metadata": {},
   "outputs": [],
   "source": [
    "y_test_pred = regressor.predict(X_test)"
   ]
  },
  {
   "cell_type": "markdown",
   "id": "67dac315-eb7f-454e-a4fb-f157645641a8",
   "metadata": {},
   "source": [
    "#### Plotting Actual vs Predictions and Residual plot"
   ]
  },
  {
   "cell_type": "code",
   "execution_count": 211,
   "id": "065a48f4-7089-4424-a0bb-7e14096bbddb",
   "metadata": {},
   "outputs": [
    {
     "data": {
      "text/plain": [
       "<matplotlib.lines.Line2D at 0x196ca743fd0>"
      ]
     },
     "execution_count": 211,
     "metadata": {},
     "output_type": "execute_result"
    },
    {
     "data": {
      "image/png": "[encoded data removed]",
      "text/plain": [
       "<Figure size 1500x500 with 2 Axes>"
      ]
     },
     "metadata": {},
     "output_type": "display_data"
    }
   ],
   "source": [
    "# Actual vs predicted\n",
    "plt.figure(figsize=(15,5))\n",
    "plt.subplot(1,2,1)\n",
    "plt.scatter(y_test, y_test_pred, color= 'red')\n",
    "plt.xlabel(\"Actual\")\n",
    "plt.ylabel(\"Predicted\")\n",
    "\n",
    "# Residual Plot\n",
    "plt.subplot(1,2,2)\n",
    "plt.scatter(y_test_pred, y_test_pred-y_test, color= 'blue')\n",
    "plt.xlabel(\"Predicted\")\n",
    "plt.ylabel(\"Residual\")\n",
    "plt.axhline(y=0, color='black', linestyle='--')"
   ]
  },
  {
   "cell_type": "markdown",
   "id": "776d321a-8f51-4079-8c0f-a8356a91373d",
   "metadata": {},
   "source": [
    "#### Error and Accuracy calculation"
   ]
  },
  {
   "cell_type": "code",
   "execution_count": 212,
   "id": "8bc085a3-059d-48d4-baf3-561545d0510b",
   "metadata": {},
   "outputs": [
    {
     "name": "stdout",
     "output_type": "stream",
     "text": [
      "Average error in my predictions: 12.224183583599075%\n",
      "R2_Score of model is: 0.8394812686405357\n"
     ]
    }
   ],
   "source": [
    "mae = mean_absolute_error(y_test,y_test_pred)\n",
    "print(\"Average error in my predictions: \" + str((mae / y_test.mean()) * 100) + \"%\")\n",
    "print(\"R2_Score of model is:\",r2_score(y_test,y_test_pred))"
   ]
  },
  {
   "cell_type": "markdown",
   "id": "17de4e1d-62f4-4e45-83d0-6399675ff243",
   "metadata": {},
   "source": [
    "#### Saving final predictions"
   ]
  },
  {
   "cell_type": "code",
   "execution_count": null,
   "id": "1abb7e9b-48e4-4b2c-b438-624938853520",
   "metadata": {},
   "outputs": [],
   "source": [
    "test_df['SalePrice'] = np.floor(regressor.predict(test_df))\n",
    "newSubmission = test_df[['Id', 'SalePrice']]\n",
    "newSubmission.to_csv(\"newSubmission.csv\", index=False)"
   ]
  }
 ],
 "metadata": {
  "kernelspec": {
   "display_name": "Python 3 (ipykernel)",
   "language": "python",
   "name": "python3"
  },
  "language_info": {
   "codemirror_mode": {
    "name": "ipython",
    "version": 3
   },
   "file_extension": ".py",
   "mimetype": "text/x-python",
   "name": "python",
   "nbconvert_exporter": "python",
   "pygments_lexer": "ipython3",
   "version": "3.11.4"
  }
 },
 "nbformat": 4,
 "nbformat_minor": 5
}
